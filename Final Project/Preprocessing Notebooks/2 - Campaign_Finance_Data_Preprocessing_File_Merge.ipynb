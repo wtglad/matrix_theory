{
  "nbformat": 4,
  "nbformat_minor": 0,
  "metadata": {
    "colab": {
      "name": "Campaign Finance Data Preprocessing - File Merge.ipynb",
      "version": "0.3.2",
      "provenance": [],
      "collapsed_sections": []
    },
    "kernelspec": {
      "name": "python3",
      "display_name": "Python 3"
    }
  },
  "cells": [
    {
      "metadata": {
        "id": "xElupyYQP2v-",
        "colab_type": "code",
        "colab": {
          "base_uri": "https://localhost:8080/",
          "height": 194
        },
        "outputId": "7bae4dbe-de79-4a44-9f17-a32b16e78ce9"
      },
      "cell_type": "code",
      "source": [
        "import os\n",
        "os.listdir(os.getcwd())"
      ],
      "execution_count": 1,
      "outputs": [
        {
          "output_type": "execute_result",
          "data": {
            "text/plain": [
              "['.config',\n",
              " 'adc.json',\n",
              " 'senate_80-94',\n",
              " '2014.csv.gz',\n",
              " '2008_2012_senate_records.csv',\n",
              " '2014_senate_records.csv',\n",
              " 'senate_records.csv',\n",
              " '1996_2006_senate_records.csv',\n",
              " '<built-in function id>.gz',\n",
              " 'sample_data']"
            ]
          },
          "metadata": {
            "tags": []
          },
          "execution_count": 1
        }
      ]
    },
    {
      "metadata": {
        "id": "kgKXrPL0P42Y",
        "colab_type": "code",
        "colab": {}
      },
      "cell_type": "code",
      "source": [
        "import pandas as pd"
      ],
      "execution_count": 0,
      "outputs": []
    },
    {
      "metadata": {
        "id": "WkAMyQAjQAKJ",
        "colab_type": "code",
        "colab": {
          "base_uri": "https://localhost:8080/",
          "height": 72
        },
        "outputId": "39f296c7-6c52-441d-93ad-01b05aaa0bbc"
      },
      "cell_type": "code",
      "source": [
        "df = pd.read_csv('senate_80-94' , encoding='Latin-1')"
      ],
      "execution_count": 3,
      "outputs": [
        {
          "output_type": "stream",
          "text": [
            "/usr/local/lib/python3.6/dist-packages/IPython/core/interactiveshell.py:2718: DtypeWarning: Columns (7,8,9,10,11,12,14,15,19,20) have mixed types. Specify dtype option on import or set low_memory=False.\n",
            "  interactivity=interactivity, compiler=compiler, result=result)\n"
          ],
          "name": "stderr"
        }
      ]
    },
    {
      "metadata": {
        "id": "2rVHXkqGQNhj",
        "colab_type": "code",
        "colab": {
          "base_uri": "https://localhost:8080/",
          "height": 563
        },
        "outputId": "2d576ea5-926d-42b4-8096-e3130ad1ce86"
      },
      "cell_type": "code",
      "source": [
        "df.head()"
      ],
      "execution_count": 4,
      "outputs": [
        {
          "output_type": "execute_result",
          "data": {
            "text/html": [
              "<div>\n",
              "<style scoped>\n",
              "    .dataframe tbody tr th:only-of-type {\n",
              "        vertical-align: middle;\n",
              "    }\n",
              "\n",
              "    .dataframe tbody tr th {\n",
              "        vertical-align: top;\n",
              "    }\n",
              "\n",
              "    .dataframe thead th {\n",
              "        text-align: right;\n",
              "    }\n",
              "</style>\n",
              "<table border=\"1\" class=\"dataframe\">\n",
              "  <thead>\n",
              "    <tr style=\"text-align: right;\">\n",
              "      <th></th>\n",
              "      <th>cycle</th>\n",
              "      <th>transaction.id</th>\n",
              "      <th>transaction.type</th>\n",
              "      <th>amount</th>\n",
              "      <th>date</th>\n",
              "      <th>bonica.cid</th>\n",
              "      <th>contributor.name</th>\n",
              "      <th>contributor.lname</th>\n",
              "      <th>contributor.fname</th>\n",
              "      <th>contributor.mname</th>\n",
              "      <th>...</th>\n",
              "      <th>efec.memo</th>\n",
              "      <th>efec.memo2</th>\n",
              "      <th>efec.transaction.id.orig</th>\n",
              "      <th>bk.ref.transaction.id</th>\n",
              "      <th>efec.org.orig</th>\n",
              "      <th>efec.comid.orig</th>\n",
              "      <th>efec.form.type</th>\n",
              "      <th>excluded.from.scaling</th>\n",
              "      <th>contributor.cfscore</th>\n",
              "      <th>candidate.cfscore</th>\n",
              "    </tr>\n",
              "  </thead>\n",
              "  <tbody>\n",
              "    <tr>\n",
              "      <th>0</th>\n",
              "      <td>1980</td>\n",
              "      <td>comm:1980:10</td>\n",
              "      <td>24K</td>\n",
              "      <td>250.0</td>\n",
              "      <td>1980-02-19</td>\n",
              "      <td>26</td>\n",
              "      <td>INTERNATIONAL CHIROPRACTORS POLITICAL ACTION C...</td>\n",
              "      <td>NaN</td>\n",
              "      <td>NaN</td>\n",
              "      <td>NaN</td>\n",
              "      <td>...</td>\n",
              "      <td>NaN</td>\n",
              "      <td>NaN</td>\n",
              "      <td>NaN</td>\n",
              "      <td>NaN</td>\n",
              "      <td>NaN</td>\n",
              "      <td>NaN</td>\n",
              "      <td>NaN</td>\n",
              "      <td>1.0</td>\n",
              "      <td>-0.26</td>\n",
              "      <td>-0.71</td>\n",
              "    </tr>\n",
              "    <tr>\n",
              "      <th>1</th>\n",
              "      <td>1980</td>\n",
              "      <td>comm:1980:100000</td>\n",
              "      <td>24K</td>\n",
              "      <td>1000.0</td>\n",
              "      <td>1979-06-19</td>\n",
              "      <td>32805</td>\n",
              "      <td>ATLANTIC RICHFIELD COMPANY CONCERNED CITIZENS ...</td>\n",
              "      <td>NaN</td>\n",
              "      <td>NaN</td>\n",
              "      <td>NaN</td>\n",
              "      <td>...</td>\n",
              "      <td>NaN</td>\n",
              "      <td>NaN</td>\n",
              "      <td>NaN</td>\n",
              "      <td>NaN</td>\n",
              "      <td>NaN</td>\n",
              "      <td>NaN</td>\n",
              "      <td>NaN</td>\n",
              "      <td>1.0</td>\n",
              "      <td>0.40</td>\n",
              "      <td>0.02</td>\n",
              "    </tr>\n",
              "    <tr>\n",
              "      <th>2</th>\n",
              "      <td>1980</td>\n",
              "      <td>comm:1980:100001</td>\n",
              "      <td>24K</td>\n",
              "      <td>500.0</td>\n",
              "      <td>1979-06-19</td>\n",
              "      <td>32805</td>\n",
              "      <td>ATLANTIC RICHFIELD COMPANY CONCERNED CITIZENS ...</td>\n",
              "      <td>NaN</td>\n",
              "      <td>NaN</td>\n",
              "      <td>NaN</td>\n",
              "      <td>...</td>\n",
              "      <td>NaN</td>\n",
              "      <td>NaN</td>\n",
              "      <td>NaN</td>\n",
              "      <td>NaN</td>\n",
              "      <td>NaN</td>\n",
              "      <td>NaN</td>\n",
              "      <td>NaN</td>\n",
              "      <td>1.0</td>\n",
              "      <td>0.40</td>\n",
              "      <td>0.02</td>\n",
              "    </tr>\n",
              "    <tr>\n",
              "      <th>3</th>\n",
              "      <td>1980</td>\n",
              "      <td>comm:1980:100002</td>\n",
              "      <td>24K</td>\n",
              "      <td>200.0</td>\n",
              "      <td>1979-06-19</td>\n",
              "      <td>32805</td>\n",
              "      <td>ATLANTIC RICHFIELD COMPANY CONCERNED CITIZENS ...</td>\n",
              "      <td>NaN</td>\n",
              "      <td>NaN</td>\n",
              "      <td>NaN</td>\n",
              "      <td>...</td>\n",
              "      <td>NaN</td>\n",
              "      <td>NaN</td>\n",
              "      <td>NaN</td>\n",
              "      <td>NaN</td>\n",
              "      <td>NaN</td>\n",
              "      <td>NaN</td>\n",
              "      <td>NaN</td>\n",
              "      <td>1.0</td>\n",
              "      <td>0.40</td>\n",
              "      <td>0.15</td>\n",
              "    </tr>\n",
              "    <tr>\n",
              "      <th>4</th>\n",
              "      <td>1980</td>\n",
              "      <td>comm:1980:100008</td>\n",
              "      <td>24K</td>\n",
              "      <td>300.0</td>\n",
              "      <td>1979-07-19</td>\n",
              "      <td>32805</td>\n",
              "      <td>ATLANTIC RICHFIELD COMPANY CONCERNED CITIZENS ...</td>\n",
              "      <td>NaN</td>\n",
              "      <td>NaN</td>\n",
              "      <td>NaN</td>\n",
              "      <td>...</td>\n",
              "      <td>NaN</td>\n",
              "      <td>NaN</td>\n",
              "      <td>NaN</td>\n",
              "      <td>NaN</td>\n",
              "      <td>NaN</td>\n",
              "      <td>NaN</td>\n",
              "      <td>NaN</td>\n",
              "      <td>1.0</td>\n",
              "      <td>0.40</td>\n",
              "      <td>0.80</td>\n",
              "    </tr>\n",
              "  </tbody>\n",
              "</table>\n",
              "<p>5 rows × 46 columns</p>\n",
              "</div>"
            ],
            "text/plain": [
              "   cycle    transaction.id transaction.type  amount        date  bonica.cid  \\\n",
              "0   1980      comm:1980:10              24K   250.0  1980-02-19          26   \n",
              "1   1980  comm:1980:100000              24K  1000.0  1979-06-19       32805   \n",
              "2   1980  comm:1980:100001              24K   500.0  1979-06-19       32805   \n",
              "3   1980  comm:1980:100002              24K   200.0  1979-06-19       32805   \n",
              "4   1980  comm:1980:100008              24K   300.0  1979-07-19       32805   \n",
              "\n",
              "                                    contributor.name contributor.lname  \\\n",
              "0  INTERNATIONAL CHIROPRACTORS POLITICAL ACTION C...               NaN   \n",
              "1  ATLANTIC RICHFIELD COMPANY CONCERNED CITIZENS ...               NaN   \n",
              "2  ATLANTIC RICHFIELD COMPANY CONCERNED CITIZENS ...               NaN   \n",
              "3  ATLANTIC RICHFIELD COMPANY CONCERNED CITIZENS ...               NaN   \n",
              "4  ATLANTIC RICHFIELD COMPANY CONCERNED CITIZENS ...               NaN   \n",
              "\n",
              "  contributor.fname contributor.mname        ...        efec.memo efec.memo2  \\\n",
              "0               NaN               NaN        ...              NaN        NaN   \n",
              "1               NaN               NaN        ...              NaN        NaN   \n",
              "2               NaN               NaN        ...              NaN        NaN   \n",
              "3               NaN               NaN        ...              NaN        NaN   \n",
              "4               NaN               NaN        ...              NaN        NaN   \n",
              "\n",
              "  efec.transaction.id.orig bk.ref.transaction.id efec.org.orig  \\\n",
              "0                      NaN                   NaN           NaN   \n",
              "1                      NaN                   NaN           NaN   \n",
              "2                      NaN                   NaN           NaN   \n",
              "3                      NaN                   NaN           NaN   \n",
              "4                      NaN                   NaN           NaN   \n",
              "\n",
              "  efec.comid.orig efec.form.type excluded.from.scaling  contributor.cfscore  \\\n",
              "0             NaN            NaN                   1.0                -0.26   \n",
              "1             NaN            NaN                   1.0                 0.40   \n",
              "2             NaN            NaN                   1.0                 0.40   \n",
              "3             NaN            NaN                   1.0                 0.40   \n",
              "4             NaN            NaN                   1.0                 0.40   \n",
              "\n",
              "  candidate.cfscore  \n",
              "0             -0.71  \n",
              "1              0.02  \n",
              "2              0.02  \n",
              "3              0.15  \n",
              "4              0.80  \n",
              "\n",
              "[5 rows x 46 columns]"
            ]
          },
          "metadata": {
            "tags": []
          },
          "execution_count": 4
        }
      ]
    },
    {
      "metadata": {
        "id": "t60XmgbgR3pL",
        "colab_type": "code",
        "colab": {
          "base_uri": "https://localhost:8080/",
          "height": 34
        },
        "outputId": "6b068640-8af6-4067-ecdc-f12615ecc7e8"
      },
      "cell_type": "code",
      "source": [
        "len(df)"
      ],
      "execution_count": 5,
      "outputs": [
        {
          "output_type": "execute_result",
          "data": {
            "text/plain": [
              "1462146"
            ]
          },
          "metadata": {
            "tags": []
          },
          "execution_count": 5
        }
      ]
    },
    {
      "metadata": {
        "id": "97g9qfxtQObr",
        "colab_type": "code",
        "colab": {
          "base_uri": "https://localhost:8080/",
          "height": 72
        },
        "outputId": "955cfb42-9d45-4595-d799-75484f4ac4cc"
      },
      "cell_type": "code",
      "source": [
        "df1 = pd.read_csv('1996_2006_senate_records.csv', encoding='Latin-1')"
      ],
      "execution_count": 6,
      "outputs": [
        {
          "output_type": "stream",
          "text": [
            "/usr/local/lib/python3.6/dist-packages/IPython/core/interactiveshell.py:2718: DtypeWarning: Columns (2,7,8,9,10,11,12,14,15,19,20,28,38) have mixed types. Specify dtype option on import or set low_memory=False.\n",
            "  interactivity=interactivity, compiler=compiler, result=result)\n"
          ],
          "name": "stderr"
        }
      ]
    },
    {
      "metadata": {
        "id": "wwqw-9x2RG6O",
        "colab_type": "code",
        "colab": {
          "base_uri": "https://localhost:8080/",
          "height": 463
        },
        "outputId": "d01d9a83-50f5-4ed1-e0ea-77c376292397"
      },
      "cell_type": "code",
      "source": [
        "df1.head()"
      ],
      "execution_count": 7,
      "outputs": [
        {
          "output_type": "execute_result",
          "data": {
            "text/html": [
              "<div>\n",
              "<style scoped>\n",
              "    .dataframe tbody tr th:only-of-type {\n",
              "        vertical-align: middle;\n",
              "    }\n",
              "\n",
              "    .dataframe tbody tr th {\n",
              "        vertical-align: top;\n",
              "    }\n",
              "\n",
              "    .dataframe thead th {\n",
              "        text-align: right;\n",
              "    }\n",
              "</style>\n",
              "<table border=\"1\" class=\"dataframe\">\n",
              "  <thead>\n",
              "    <tr style=\"text-align: right;\">\n",
              "      <th></th>\n",
              "      <th>cycle</th>\n",
              "      <th>transaction.id</th>\n",
              "      <th>transaction.type</th>\n",
              "      <th>amount</th>\n",
              "      <th>date</th>\n",
              "      <th>bonica.cid</th>\n",
              "      <th>contributor.name</th>\n",
              "      <th>contributor.lname</th>\n",
              "      <th>contributor.fname</th>\n",
              "      <th>contributor.mname</th>\n",
              "      <th>...</th>\n",
              "      <th>efec.memo</th>\n",
              "      <th>efec.memo2</th>\n",
              "      <th>efec.transaction.id.orig</th>\n",
              "      <th>bk.ref.transaction.id</th>\n",
              "      <th>efec.org.orig</th>\n",
              "      <th>efec.comid.orig</th>\n",
              "      <th>efec.form.type</th>\n",
              "      <th>excluded.from.scaling</th>\n",
              "      <th>contributor.cfscore</th>\n",
              "      <th>candidate.cfscore</th>\n",
              "    </tr>\n",
              "  </thead>\n",
              "  <tbody>\n",
              "    <tr>\n",
              "      <th>0</th>\n",
              "      <td>1996</td>\n",
              "      <td>comm:1996:1000</td>\n",
              "      <td>SB</td>\n",
              "      <td>41509.0</td>\n",
              "      <td>1996-10-28</td>\n",
              "      <td>27466</td>\n",
              "      <td>NATIONAL REPUBLICAN SENATORIAL COMMITTEE EXPEN...</td>\n",
              "      <td>NaN</td>\n",
              "      <td>NaN</td>\n",
              "      <td>NaN</td>\n",
              "      <td>...</td>\n",
              "      <td>NaN</td>\n",
              "      <td>NaN</td>\n",
              "      <td>NaN</td>\n",
              "      <td>NaN</td>\n",
              "      <td>NaN</td>\n",
              "      <td>NaN</td>\n",
              "      <td>NaN</td>\n",
              "      <td>1.0</td>\n",
              "      <td>0.90</td>\n",
              "      <td>-0.92</td>\n",
              "    </tr>\n",
              "    <tr>\n",
              "      <th>1</th>\n",
              "      <td>1996</td>\n",
              "      <td>comm:1996:100001</td>\n",
              "      <td>24K</td>\n",
              "      <td>500.0</td>\n",
              "      <td>1996-09-25</td>\n",
              "      <td>2972</td>\n",
              "      <td>ACTION COMMITTEE FOR RURAL ELECTRIFICATION ACRE</td>\n",
              "      <td>NaN</td>\n",
              "      <td>NaN</td>\n",
              "      <td>NaN</td>\n",
              "      <td>...</td>\n",
              "      <td>NaN</td>\n",
              "      <td>NaN</td>\n",
              "      <td>NaN</td>\n",
              "      <td>NaN</td>\n",
              "      <td>NaN</td>\n",
              "      <td>NaN</td>\n",
              "      <td>NaN</td>\n",
              "      <td>1.0</td>\n",
              "      <td>0.10</td>\n",
              "      <td>0.57</td>\n",
              "    </tr>\n",
              "    <tr>\n",
              "      <th>2</th>\n",
              "      <td>1996</td>\n",
              "      <td>comm:1996:100057</td>\n",
              "      <td>24K</td>\n",
              "      <td>500.0</td>\n",
              "      <td>1996-09-24</td>\n",
              "      <td>300335</td>\n",
              "      <td>REMINGTON ARMS POLITICAL ACTION COMMITTEE</td>\n",
              "      <td>NaN</td>\n",
              "      <td>NaN</td>\n",
              "      <td>NaN</td>\n",
              "      <td>...</td>\n",
              "      <td>NaN</td>\n",
              "      <td>NaN</td>\n",
              "      <td>NaN</td>\n",
              "      <td>NaN</td>\n",
              "      <td>NaN</td>\n",
              "      <td>NaN</td>\n",
              "      <td>NaN</td>\n",
              "      <td>1.0</td>\n",
              "      <td>0.90</td>\n",
              "      <td>0.87</td>\n",
              "    </tr>\n",
              "    <tr>\n",
              "      <th>3</th>\n",
              "      <td>1996</td>\n",
              "      <td>comm:1996:100060</td>\n",
              "      <td>24K</td>\n",
              "      <td>500.0</td>\n",
              "      <td>1996-10-28</td>\n",
              "      <td>300335</td>\n",
              "      <td>REMINGTON ARMS POLITICAL ACTION COMMITTEE</td>\n",
              "      <td>NaN</td>\n",
              "      <td>NaN</td>\n",
              "      <td>NaN</td>\n",
              "      <td>...</td>\n",
              "      <td>NaN</td>\n",
              "      <td>NaN</td>\n",
              "      <td>NaN</td>\n",
              "      <td>NaN</td>\n",
              "      <td>NaN</td>\n",
              "      <td>NaN</td>\n",
              "      <td>NaN</td>\n",
              "      <td>1.0</td>\n",
              "      <td>0.90</td>\n",
              "      <td>0.45</td>\n",
              "    </tr>\n",
              "    <tr>\n",
              "      <th>4</th>\n",
              "      <td>1996</td>\n",
              "      <td>comm:1996:100075</td>\n",
              "      <td>24K</td>\n",
              "      <td>500.0</td>\n",
              "      <td>1996-05-10</td>\n",
              "      <td>300723</td>\n",
              "      <td>CENFED BANK F S B PAC</td>\n",
              "      <td>NaN</td>\n",
              "      <td>NaN</td>\n",
              "      <td>NaN</td>\n",
              "      <td>...</td>\n",
              "      <td>NaN</td>\n",
              "      <td>NaN</td>\n",
              "      <td>NaN</td>\n",
              "      <td>NaN</td>\n",
              "      <td>NaN</td>\n",
              "      <td>NaN</td>\n",
              "      <td>NaN</td>\n",
              "      <td>1.0</td>\n",
              "      <td>0.49</td>\n",
              "      <td>0.12</td>\n",
              "    </tr>\n",
              "  </tbody>\n",
              "</table>\n",
              "<p>5 rows × 46 columns</p>\n",
              "</div>"
            ],
            "text/plain": [
              "   cycle    transaction.id transaction.type   amount        date  bonica.cid  \\\n",
              "0   1996    comm:1996:1000               SB  41509.0  1996-10-28       27466   \n",
              "1   1996  comm:1996:100001              24K    500.0  1996-09-25        2972   \n",
              "2   1996  comm:1996:100057              24K    500.0  1996-09-24      300335   \n",
              "3   1996  comm:1996:100060              24K    500.0  1996-10-28      300335   \n",
              "4   1996  comm:1996:100075              24K    500.0  1996-05-10      300723   \n",
              "\n",
              "                                    contributor.name contributor.lname  \\\n",
              "0  NATIONAL REPUBLICAN SENATORIAL COMMITTEE EXPEN...               NaN   \n",
              "1    ACTION COMMITTEE FOR RURAL ELECTRIFICATION ACRE               NaN   \n",
              "2          REMINGTON ARMS POLITICAL ACTION COMMITTEE               NaN   \n",
              "3          REMINGTON ARMS POLITICAL ACTION COMMITTEE               NaN   \n",
              "4                              CENFED BANK F S B PAC               NaN   \n",
              "\n",
              "  contributor.fname contributor.mname        ...        efec.memo efec.memo2  \\\n",
              "0               NaN               NaN        ...              NaN        NaN   \n",
              "1               NaN               NaN        ...              NaN        NaN   \n",
              "2               NaN               NaN        ...              NaN        NaN   \n",
              "3               NaN               NaN        ...              NaN        NaN   \n",
              "4               NaN               NaN        ...              NaN        NaN   \n",
              "\n",
              "  efec.transaction.id.orig bk.ref.transaction.id efec.org.orig  \\\n",
              "0                      NaN                   NaN           NaN   \n",
              "1                      NaN                   NaN           NaN   \n",
              "2                      NaN                   NaN           NaN   \n",
              "3                      NaN                   NaN           NaN   \n",
              "4                      NaN                   NaN           NaN   \n",
              "\n",
              "  efec.comid.orig efec.form.type excluded.from.scaling  contributor.cfscore  \\\n",
              "0             NaN            NaN                   1.0                 0.90   \n",
              "1             NaN            NaN                   1.0                 0.10   \n",
              "2             NaN            NaN                   1.0                 0.90   \n",
              "3             NaN            NaN                   1.0                 0.90   \n",
              "4             NaN            NaN                   1.0                 0.49   \n",
              "\n",
              "  candidate.cfscore  \n",
              "0             -0.92  \n",
              "1              0.57  \n",
              "2              0.87  \n",
              "3              0.45  \n",
              "4              0.12  \n",
              "\n",
              "[5 rows x 46 columns]"
            ]
          },
          "metadata": {
            "tags": []
          },
          "execution_count": 7
        }
      ]
    },
    {
      "metadata": {
        "id": "O_fyzYLSR186",
        "colab_type": "code",
        "colab": {
          "base_uri": "https://localhost:8080/",
          "height": 34
        },
        "outputId": "8ffa8f4c-2827-41b4-fae7-e881c140b529"
      },
      "cell_type": "code",
      "source": [
        "len(df1)"
      ],
      "execution_count": 8,
      "outputs": [
        {
          "output_type": "execute_result",
          "data": {
            "text/plain": [
              "2297589"
            ]
          },
          "metadata": {
            "tags": []
          },
          "execution_count": 8
        }
      ]
    },
    {
      "metadata": {
        "id": "i4fN8yi7QubS",
        "colab_type": "code",
        "colab": {}
      },
      "cell_type": "code",
      "source": [
        "df = df.append(df1, ignore_index=True)"
      ],
      "execution_count": 0,
      "outputs": []
    },
    {
      "metadata": {
        "id": "cX0ZTnN4RRP5",
        "colab_type": "code",
        "colab": {
          "base_uri": "https://localhost:8080/",
          "height": 34
        },
        "outputId": "61c4629c-8c6a-4800-d12b-24cc1e74dece"
      },
      "cell_type": "code",
      "source": [
        "len(df)"
      ],
      "execution_count": 10,
      "outputs": [
        {
          "output_type": "execute_result",
          "data": {
            "text/plain": [
              "3759735"
            ]
          },
          "metadata": {
            "tags": []
          },
          "execution_count": 10
        }
      ]
    },
    {
      "metadata": {
        "id": "1xnGPbPORrQH",
        "colab_type": "code",
        "colab": {
          "base_uri": "https://localhost:8080/",
          "height": 72
        },
        "outputId": "439dd49c-55ab-4476-92ad-0af4f30cf3d1"
      },
      "cell_type": "code",
      "source": [
        "df2 = pd.read_csv('2008_2012_senate_records.csv', encoding='Latin-1')"
      ],
      "execution_count": 11,
      "outputs": [
        {
          "output_type": "stream",
          "text": [
            "/usr/local/lib/python3.6/dist-packages/IPython/core/interactiveshell.py:2718: DtypeWarning: Columns (0,2,3,5,7,8,9,10,11,12,14,15,18,19,20,21,28,36,37,38,39,40,41,42) have mixed types. Specify dtype option on import or set low_memory=False.\n",
            "  interactivity=interactivity, compiler=compiler, result=result)\n"
          ],
          "name": "stderr"
        }
      ]
    },
    {
      "metadata": {
        "id": "wYCfl6qZSBlo",
        "colab_type": "code",
        "colab": {
          "base_uri": "https://localhost:8080/",
          "height": 463
        },
        "outputId": "628a4193-5da7-4599-b047-8ca4353d4b11"
      },
      "cell_type": "code",
      "source": [
        "df2.head()"
      ],
      "execution_count": 12,
      "outputs": [
        {
          "output_type": "execute_result",
          "data": {
            "text/html": [
              "<div>\n",
              "<style scoped>\n",
              "    .dataframe tbody tr th:only-of-type {\n",
              "        vertical-align: middle;\n",
              "    }\n",
              "\n",
              "    .dataframe tbody tr th {\n",
              "        vertical-align: top;\n",
              "    }\n",
              "\n",
              "    .dataframe thead th {\n",
              "        text-align: right;\n",
              "    }\n",
              "</style>\n",
              "<table border=\"1\" class=\"dataframe\">\n",
              "  <thead>\n",
              "    <tr style=\"text-align: right;\">\n",
              "      <th></th>\n",
              "      <th>cycle</th>\n",
              "      <th>transaction.id</th>\n",
              "      <th>transaction.type</th>\n",
              "      <th>amount</th>\n",
              "      <th>date</th>\n",
              "      <th>bonica.cid</th>\n",
              "      <th>contributor.name</th>\n",
              "      <th>contributor.lname</th>\n",
              "      <th>contributor.fname</th>\n",
              "      <th>contributor.mname</th>\n",
              "      <th>...</th>\n",
              "      <th>efec.memo</th>\n",
              "      <th>efec.memo2</th>\n",
              "      <th>efec.transaction.id.orig</th>\n",
              "      <th>bk.ref.transaction.id</th>\n",
              "      <th>efec.org.orig</th>\n",
              "      <th>efec.comid.orig</th>\n",
              "      <th>efec.form.type</th>\n",
              "      <th>excluded.from.scaling</th>\n",
              "      <th>contributor.cfscore</th>\n",
              "      <th>candidate.cfscore</th>\n",
              "    </tr>\n",
              "  </thead>\n",
              "  <tbody>\n",
              "    <tr>\n",
              "      <th>0</th>\n",
              "      <td>2008</td>\n",
              "      <td>comm:2008:100003</td>\n",
              "      <td>24K</td>\n",
              "      <td>2000</td>\n",
              "      <td>2008-07-29</td>\n",
              "      <td>34488</td>\n",
              "      <td>ANHEUSER BUSCH POLITICAL ACTION COMMITTEE AB PAC</td>\n",
              "      <td>NaN</td>\n",
              "      <td>NaN</td>\n",
              "      <td>NaN</td>\n",
              "      <td>...</td>\n",
              "      <td>NaN</td>\n",
              "      <td>NaN</td>\n",
              "      <td>NaN</td>\n",
              "      <td>NaN</td>\n",
              "      <td>NaN</td>\n",
              "      <td>NaN</td>\n",
              "      <td>NaN</td>\n",
              "      <td>1.0</td>\n",
              "      <td>0.05</td>\n",
              "      <td>0.80</td>\n",
              "    </tr>\n",
              "    <tr>\n",
              "      <th>1</th>\n",
              "      <td>2008</td>\n",
              "      <td>comm:2008:100025</td>\n",
              "      <td>24K</td>\n",
              "      <td>1000</td>\n",
              "      <td>2007-07-16</td>\n",
              "      <td>399717</td>\n",
              "      <td>PROFESSIONAL COUNSELING FUND</td>\n",
              "      <td>NaN</td>\n",
              "      <td>NaN</td>\n",
              "      <td>NaN</td>\n",
              "      <td>...</td>\n",
              "      <td>NaN</td>\n",
              "      <td>NaN</td>\n",
              "      <td>NaN</td>\n",
              "      <td>NaN</td>\n",
              "      <td>NaN</td>\n",
              "      <td>NaN</td>\n",
              "      <td>NaN</td>\n",
              "      <td>1.0</td>\n",
              "      <td>-0.44</td>\n",
              "      <td>-1.12</td>\n",
              "    </tr>\n",
              "    <tr>\n",
              "      <th>2</th>\n",
              "      <td>2008</td>\n",
              "      <td>comm:2008:100029</td>\n",
              "      <td>24K</td>\n",
              "      <td>2000</td>\n",
              "      <td>2008-08-05</td>\n",
              "      <td>35683</td>\n",
              "      <td>VOLUNTARY CONTRIBUTORS FOR BETTER GOVERNMENT</td>\n",
              "      <td>NaN</td>\n",
              "      <td>NaN</td>\n",
              "      <td>NaN</td>\n",
              "      <td>...</td>\n",
              "      <td>NaN</td>\n",
              "      <td>NaN</td>\n",
              "      <td>NaN</td>\n",
              "      <td>NaN</td>\n",
              "      <td>NaN</td>\n",
              "      <td>NaN</td>\n",
              "      <td>NaN</td>\n",
              "      <td>1.0</td>\n",
              "      <td>-0.37</td>\n",
              "      <td>1.23</td>\n",
              "    </tr>\n",
              "    <tr>\n",
              "      <th>3</th>\n",
              "      <td>2008</td>\n",
              "      <td>comm:2008:100032</td>\n",
              "      <td>24K</td>\n",
              "      <td>1000</td>\n",
              "      <td>2008-09-29</td>\n",
              "      <td>43992</td>\n",
              "      <td>UNITED NATIONS REFORM ELECTORAL CAMPAIGN COMMI...</td>\n",
              "      <td>NaN</td>\n",
              "      <td>NaN</td>\n",
              "      <td>NaN</td>\n",
              "      <td>...</td>\n",
              "      <td>NaN</td>\n",
              "      <td>NaN</td>\n",
              "      <td>NaN</td>\n",
              "      <td>NaN</td>\n",
              "      <td>NaN</td>\n",
              "      <td>NaN</td>\n",
              "      <td>NaN</td>\n",
              "      <td>0.0</td>\n",
              "      <td>-0.92</td>\n",
              "      <td>-1.42</td>\n",
              "    </tr>\n",
              "    <tr>\n",
              "      <th>4</th>\n",
              "      <td>2008</td>\n",
              "      <td>comm:2008:100034</td>\n",
              "      <td>24K</td>\n",
              "      <td>1000</td>\n",
              "      <td>2008-04-28</td>\n",
              "      <td>368381</td>\n",
              "      <td>KERR DRUG INC PAC</td>\n",
              "      <td>NaN</td>\n",
              "      <td>NaN</td>\n",
              "      <td>NaN</td>\n",
              "      <td>...</td>\n",
              "      <td>NaN</td>\n",
              "      <td>NaN</td>\n",
              "      <td>NaN</td>\n",
              "      <td>NaN</td>\n",
              "      <td>NaN</td>\n",
              "      <td>NaN</td>\n",
              "      <td>NaN</td>\n",
              "      <td>1.0</td>\n",
              "      <td>0.42</td>\n",
              "      <td>-0.43</td>\n",
              "    </tr>\n",
              "  </tbody>\n",
              "</table>\n",
              "<p>5 rows × 46 columns</p>\n",
              "</div>"
            ],
            "text/plain": [
              "  cycle    transaction.id transaction.type amount        date bonica.cid  \\\n",
              "0  2008  comm:2008:100003              24K   2000  2008-07-29      34488   \n",
              "1  2008  comm:2008:100025              24K   1000  2007-07-16     399717   \n",
              "2  2008  comm:2008:100029              24K   2000  2008-08-05      35683   \n",
              "3  2008  comm:2008:100032              24K   1000  2008-09-29      43992   \n",
              "4  2008  comm:2008:100034              24K   1000  2008-04-28     368381   \n",
              "\n",
              "                                    contributor.name contributor.lname  \\\n",
              "0   ANHEUSER BUSCH POLITICAL ACTION COMMITTEE AB PAC               NaN   \n",
              "1                       PROFESSIONAL COUNSELING FUND               NaN   \n",
              "2       VOLUNTARY CONTRIBUTORS FOR BETTER GOVERNMENT               NaN   \n",
              "3  UNITED NATIONS REFORM ELECTORAL CAMPAIGN COMMI...               NaN   \n",
              "4                                  KERR DRUG INC PAC               NaN   \n",
              "\n",
              "  contributor.fname contributor.mname        ...        efec.memo efec.memo2  \\\n",
              "0               NaN               NaN        ...              NaN        NaN   \n",
              "1               NaN               NaN        ...              NaN        NaN   \n",
              "2               NaN               NaN        ...              NaN        NaN   \n",
              "3               NaN               NaN        ...              NaN        NaN   \n",
              "4               NaN               NaN        ...              NaN        NaN   \n",
              "\n",
              "  efec.transaction.id.orig bk.ref.transaction.id efec.org.orig  \\\n",
              "0                      NaN                   NaN           NaN   \n",
              "1                      NaN                   NaN           NaN   \n",
              "2                      NaN                   NaN           NaN   \n",
              "3                      NaN                   NaN           NaN   \n",
              "4                      NaN                   NaN           NaN   \n",
              "\n",
              "  efec.comid.orig efec.form.type excluded.from.scaling contributor.cfscore  \\\n",
              "0             NaN            NaN                   1.0                0.05   \n",
              "1             NaN            NaN                   1.0               -0.44   \n",
              "2             NaN            NaN                   1.0               -0.37   \n",
              "3             NaN            NaN                   0.0               -0.92   \n",
              "4             NaN            NaN                   1.0                0.42   \n",
              "\n",
              "  candidate.cfscore  \n",
              "0              0.80  \n",
              "1             -1.12  \n",
              "2              1.23  \n",
              "3             -1.42  \n",
              "4             -0.43  \n",
              "\n",
              "[5 rows x 46 columns]"
            ]
          },
          "metadata": {
            "tags": []
          },
          "execution_count": 12
        }
      ]
    },
    {
      "metadata": {
        "id": "IiCdZeFeSDPq",
        "colab_type": "code",
        "colab": {
          "base_uri": "https://localhost:8080/",
          "height": 34
        },
        "outputId": "654c4c11-98c1-402f-eed6-4777df83e7f8"
      },
      "cell_type": "code",
      "source": [
        "len(df2)"
      ],
      "execution_count": 13,
      "outputs": [
        {
          "output_type": "execute_result",
          "data": {
            "text/plain": [
              "3210247"
            ]
          },
          "metadata": {
            "tags": []
          },
          "execution_count": 13
        }
      ]
    },
    {
      "metadata": {
        "id": "sgqwoDV8RyAg",
        "colab_type": "code",
        "colab": {}
      },
      "cell_type": "code",
      "source": [
        "df = df.append(df2, ignore_index=True)"
      ],
      "execution_count": 0,
      "outputs": []
    },
    {
      "metadata": {
        "id": "aTT1HllQSFJM",
        "colab_type": "code",
        "colab": {
          "base_uri": "https://localhost:8080/",
          "height": 34
        },
        "outputId": "d556e0c3-7632-42a0-98b5-b1ff419f9cfd"
      },
      "cell_type": "code",
      "source": [
        "len(df)"
      ],
      "execution_count": 15,
      "outputs": [
        {
          "output_type": "execute_result",
          "data": {
            "text/plain": [
              "6969982"
            ]
          },
          "metadata": {
            "tags": []
          },
          "execution_count": 15
        }
      ]
    },
    {
      "metadata": {
        "id": "Q6MWCPQhS0lN",
        "colab_type": "code",
        "colab": {}
      },
      "cell_type": "code",
      "source": [
        "df.to_csv('1980_2012_senate_records.csv', index=False)"
      ],
      "execution_count": 0,
      "outputs": []
    },
    {
      "metadata": {
        "id": "xEdwYQ8-T34G",
        "colab_type": "code",
        "colab": {}
      },
      "cell_type": "code",
      "source": [
        "!pip install -U -q PyDrive\n",
        "from pydrive.auth import GoogleAuth\n",
        "from pydrive.drive import GoogleDrive\n",
        "from google.colab import auth\n",
        "from oauth2client.client import GoogleCredentials\n",
        "import pandas as pd\n",
        "# Authenticate and create the PyDrive client.\n",
        "auth.authenticate_user()\n",
        "gauth = GoogleAuth()\n",
        "gauth.credentials = GoogleCredentials.get_application_default()\n",
        "drive = GoogleDrive(gauth)"
      ],
      "execution_count": 0,
      "outputs": []
    },
    {
      "metadata": {
        "id": "PJH1lz38TxFo",
        "colab_type": "code",
        "colab": {
          "base_uri": "https://localhost:8080/",
          "height": 34
        },
        "outputId": "b20c4564-cc6a-4081-f0fc-01585b631717"
      },
      "cell_type": "code",
      "source": [
        "uploaded = drive.CreateFile({'title': '1980_2012_senate_records.csv'})\n",
        "uploaded.SetContentFile('1980_2012_senate_records.csv')\n",
        "uploaded.Upload()\n",
        "print('Uploaded file with ID {}'.format(uploaded.get('id')))"
      ],
      "execution_count": 19,
      "outputs": [
        {
          "output_type": "stream",
          "text": [
            "Uploaded file with ID 1IJRtHNRCbgQuCc8mAQZrM8GcYHiJifo1\n"
          ],
          "name": "stdout"
        }
      ]
    },
    {
      "metadata": {
        "id": "HOqi0SJuUXkQ",
        "colab_type": "code",
        "colab": {}
      },
      "cell_type": "code",
      "source": [
        "del df1\n",
        "del df2"
      ],
      "execution_count": 0,
      "outputs": []
    },
    {
      "metadata": {
        "id": "r2eNt4PgUdlq",
        "colab_type": "code",
        "colab": {
          "base_uri": "https://localhost:8080/",
          "height": 34
        },
        "outputId": "af41d8a0-4ef5-4472-c393-13f2e273da59"
      },
      "cell_type": "code",
      "source": [
        "import gc\n",
        "gc.collect()"
      ],
      "execution_count": 23,
      "outputs": [
        {
          "output_type": "execute_result",
          "data": {
            "text/plain": [
              "365"
            ]
          },
          "metadata": {
            "tags": []
          },
          "execution_count": 23
        }
      ]
    },
    {
      "metadata": {
        "id": "bkIpIghwUp45",
        "colab_type": "code",
        "colab": {
          "base_uri": "https://localhost:8080/",
          "height": 72
        },
        "outputId": "1bf4bcb8-dc01-4a4c-fdb6-4aec9ae0bbc0"
      },
      "cell_type": "code",
      "source": [
        "import pandas as pd\n",
        "df = pd.read_csv('1980_2012_senate_records.csv')"
      ],
      "execution_count": 3,
      "outputs": [
        {
          "output_type": "stream",
          "text": [
            "/usr/local/lib/python3.6/dist-packages/IPython/core/interactiveshell.py:2718: DtypeWarning: Columns (0,3,5,7,8,9,10,11,12,14,15,18,19,20,21,28,36,37,38,39,40,41,42) have mixed types. Specify dtype option on import or set low_memory=False.\n",
            "  interactivity=interactivity, compiler=compiler, result=result)\n"
          ],
          "name": "stderr"
        }
      ]
    },
    {
      "metadata": {
        "id": "JJ-uWMsMSFxU",
        "colab_type": "code",
        "colab": {
          "base_uri": "https://localhost:8080/",
          "height": 72
        },
        "outputId": "2fb5dc53-53e1-428e-8f6a-4be75115ad64"
      },
      "cell_type": "code",
      "source": [
        "df3 = pd.read_csv('2014_senate_records.csv', encoding='Latin-1')"
      ],
      "execution_count": 4,
      "outputs": [
        {
          "output_type": "stream",
          "text": [
            "/usr/local/lib/python3.6/dist-packages/IPython/core/interactiveshell.py:2718: DtypeWarning: Columns (11,15,21,28,36,37,38,39,40,41) have mixed types. Specify dtype option on import or set low_memory=False.\n",
            "  interactivity=interactivity, compiler=compiler, result=result)\n"
          ],
          "name": "stderr"
        }
      ]
    },
    {
      "metadata": {
        "id": "spV5Tnn7SXrI",
        "colab_type": "code",
        "colab": {
          "base_uri": "https://localhost:8080/",
          "height": 413
        },
        "outputId": "a2381534-8c0e-4ab3-bc38-ef9a681167b2"
      },
      "cell_type": "code",
      "source": [
        "df3.head()"
      ],
      "execution_count": 21,
      "outputs": [
        {
          "output_type": "execute_result",
          "data": {
            "text/html": [
              "<div>\n",
              "<style scoped>\n",
              "    .dataframe tbody tr th:only-of-type {\n",
              "        vertical-align: middle;\n",
              "    }\n",
              "\n",
              "    .dataframe tbody tr th {\n",
              "        vertical-align: top;\n",
              "    }\n",
              "\n",
              "    .dataframe thead th {\n",
              "        text-align: right;\n",
              "    }\n",
              "</style>\n",
              "<table border=\"1\" class=\"dataframe\">\n",
              "  <thead>\n",
              "    <tr style=\"text-align: right;\">\n",
              "      <th></th>\n",
              "      <th>cycle</th>\n",
              "      <th>transaction.id</th>\n",
              "      <th>transaction.type</th>\n",
              "      <th>amount</th>\n",
              "      <th>date</th>\n",
              "      <th>bonica.cid</th>\n",
              "      <th>contributor.name</th>\n",
              "      <th>contributor.lname</th>\n",
              "      <th>contributor.fname</th>\n",
              "      <th>contributor.mname</th>\n",
              "      <th>...</th>\n",
              "      <th>efec.memo</th>\n",
              "      <th>efec.memo2</th>\n",
              "      <th>efec.transaction.id.orig</th>\n",
              "      <th>bk.ref.transaction.id</th>\n",
              "      <th>efec.org.orig</th>\n",
              "      <th>efec.comid.orig</th>\n",
              "      <th>efec.form.type</th>\n",
              "      <th>excluded.from.scaling</th>\n",
              "      <th>contributor.cfscore</th>\n",
              "      <th>candidate.cfscore</th>\n",
              "    </tr>\n",
              "  </thead>\n",
              "  <tbody>\n",
              "    <tr>\n",
              "      <th>0</th>\n",
              "      <td>2014</td>\n",
              "      <td>e:comm:2012:14052200527061</td>\n",
              "      <td>22Z</td>\n",
              "      <td>2500.0</td>\n",
              "      <td>2013-04-04</td>\n",
              "      <td>32780588402</td>\n",
              "      <td>medco health pac</td>\n",
              "      <td>NaN</td>\n",
              "      <td>NaN</td>\n",
              "      <td>NaN</td>\n",
              "      <td>...</td>\n",
              "      <td>CONTRIBUTION REFUND</td>\n",
              "      <td>CONTRIBUTION REFUND  CONTRIBUTION REFUND</td>\n",
              "      <td>SB28.M14.163</td>\n",
              "      <td>NaN</td>\n",
              "      <td>The Peoples Seat PAC</td>\n",
              "      <td>C00467233</td>\n",
              "      <td>sb28c</td>\n",
              "      <td>1.0</td>\n",
              "      <td>0.24</td>\n",
              "      <td>0.84</td>\n",
              "    </tr>\n",
              "    <tr>\n",
              "      <th>1</th>\n",
              "      <td>2014</td>\n",
              "      <td>e:comm:2014:13041703335050</td>\n",
              "      <td>18K</td>\n",
              "      <td>63.0</td>\n",
              "      <td>2013-01-29</td>\n",
              "      <td>413914</td>\n",
              "      <td>gillibrand for senate</td>\n",
              "      <td>NaN</td>\n",
              "      <td>NaN</td>\n",
              "      <td>NaN</td>\n",
              "      <td>...</td>\n",
              "      <td>NaN</td>\n",
              "      <td>NaN</td>\n",
              "      <td>C6955957</td>\n",
              "      <td>NaN</td>\n",
              "      <td>Grassroots Victory Fund</td>\n",
              "      <td>C00485532</td>\n",
              "      <td>SA11C</td>\n",
              "      <td>0.0</td>\n",
              "      <td>-1.08</td>\n",
              "      <td>-1.14</td>\n",
              "    </tr>\n",
              "    <tr>\n",
              "      <th>2</th>\n",
              "      <td>2014</td>\n",
              "      <td>e:comm:2014:13041703534826</td>\n",
              "      <td>15E</td>\n",
              "      <td>555000.0</td>\n",
              "      <td>2013-02-25</td>\n",
              "      <td>31236444445</td>\n",
              "      <td>mccain palin compliance fund</td>\n",
              "      <td>NaN</td>\n",
              "      <td>NaN</td>\n",
              "      <td>NaN</td>\n",
              "      <td>...</td>\n",
              "      <td>TRANSFER FROM AUTHORIZED COMMITTEE</td>\n",
              "      <td>NaN</td>\n",
              "      <td>SB18.2</td>\n",
              "      <td>NaN</td>\n",
              "      <td>JOHN MCCAIN 2008, INC.</td>\n",
              "      <td>C00430470</td>\n",
              "      <td>SA18</td>\n",
              "      <td>1.0</td>\n",
              "      <td>1.04</td>\n",
              "      <td>0.98</td>\n",
              "    </tr>\n",
              "    <tr>\n",
              "      <th>3</th>\n",
              "      <td>2014</td>\n",
              "      <td>e:comm:2014:13041703534827</td>\n",
              "      <td>21</td>\n",
              "      <td>205.5</td>\n",
              "      <td>2013-03-31</td>\n",
              "      <td>31236445483</td>\n",
              "      <td>jpmorgan chase</td>\n",
              "      <td>NaN</td>\n",
              "      <td>NaN</td>\n",
              "      <td>NaN</td>\n",
              "      <td>...</td>\n",
              "      <td>INTEREST EARNINGS</td>\n",
              "      <td>NaN</td>\n",
              "      <td>SB21.1</td>\n",
              "      <td>NaN</td>\n",
              "      <td>JOHN MCCAIN 2008, INC.</td>\n",
              "      <td>C00430470</td>\n",
              "      <td>SA21</td>\n",
              "      <td>NaN</td>\n",
              "      <td>NaN</td>\n",
              "      <td>0.98</td>\n",
              "    </tr>\n",
              "    <tr>\n",
              "      <th>4</th>\n",
              "      <td>2014</td>\n",
              "      <td>e:comm:2014:13041703543377</td>\n",
              "      <td>18K</td>\n",
              "      <td>1000.0</td>\n",
              "      <td>2013-03-15</td>\n",
              "      <td>150201</td>\n",
              "      <td>american association for respiratory care poli...</td>\n",
              "      <td>NaN</td>\n",
              "      <td>NaN</td>\n",
              "      <td>NaN</td>\n",
              "      <td>...</td>\n",
              "      <td>NaN</td>\n",
              "      <td>NaN</td>\n",
              "      <td>SA11C.4155</td>\n",
              "      <td>NaN</td>\n",
              "      <td>Durbin Hoyer Fund</td>\n",
              "      <td>C00527705</td>\n",
              "      <td>SA11C</td>\n",
              "      <td>1.0</td>\n",
              "      <td>-0.11</td>\n",
              "      <td>-0.92</td>\n",
              "    </tr>\n",
              "  </tbody>\n",
              "</table>\n",
              "<p>5 rows × 46 columns</p>\n",
              "</div>"
            ],
            "text/plain": [
              "   cycle              transaction.id transaction.type    amount        date  \\\n",
              "0   2014  e:comm:2012:14052200527061              22Z    2500.0  2013-04-04   \n",
              "1   2014  e:comm:2014:13041703335050              18K      63.0  2013-01-29   \n",
              "2   2014  e:comm:2014:13041703534826              15E  555000.0  2013-02-25   \n",
              "3   2014  e:comm:2014:13041703534827               21     205.5  2013-03-31   \n",
              "4   2014  e:comm:2014:13041703543377              18K    1000.0  2013-03-15   \n",
              "\n",
              "    bonica.cid                                   contributor.name  \\\n",
              "0  32780588402                                   medco health pac   \n",
              "1       413914                              gillibrand for senate   \n",
              "2  31236444445                       mccain palin compliance fund   \n",
              "3  31236445483                                     jpmorgan chase   \n",
              "4       150201  american association for respiratory care poli...   \n",
              "\n",
              "  contributor.lname contributor.fname contributor.mname        ...         \\\n",
              "0               NaN               NaN               NaN        ...          \n",
              "1               NaN               NaN               NaN        ...          \n",
              "2               NaN               NaN               NaN        ...          \n",
              "3               NaN               NaN               NaN        ...          \n",
              "4               NaN               NaN               NaN        ...          \n",
              "\n",
              "                            efec.memo  \\\n",
              "0                 CONTRIBUTION REFUND   \n",
              "1                                 NaN   \n",
              "2  TRANSFER FROM AUTHORIZED COMMITTEE   \n",
              "3                   INTEREST EARNINGS   \n",
              "4                                 NaN   \n",
              "\n",
              "                                 efec.memo2 efec.transaction.id.orig  \\\n",
              "0  CONTRIBUTION REFUND  CONTRIBUTION REFUND             SB28.M14.163   \n",
              "1                                       NaN                 C6955957   \n",
              "2                                       NaN                   SB18.2   \n",
              "3                                       NaN                   SB21.1   \n",
              "4                                       NaN               SA11C.4155   \n",
              "\n",
              "  bk.ref.transaction.id            efec.org.orig efec.comid.orig  \\\n",
              "0                   NaN     The Peoples Seat PAC       C00467233   \n",
              "1                   NaN  Grassroots Victory Fund       C00485532   \n",
              "2                   NaN   JOHN MCCAIN 2008, INC.       C00430470   \n",
              "3                   NaN   JOHN MCCAIN 2008, INC.       C00430470   \n",
              "4                   NaN        Durbin Hoyer Fund       C00527705   \n",
              "\n",
              "  efec.form.type excluded.from.scaling  contributor.cfscore candidate.cfscore  \n",
              "0          sb28c                   1.0                 0.24              0.84  \n",
              "1          SA11C                   0.0                -1.08             -1.14  \n",
              "2           SA18                   1.0                 1.04              0.98  \n",
              "3           SA21                   NaN                  NaN              0.98  \n",
              "4          SA11C                   1.0                -0.11             -0.92  \n",
              "\n",
              "[5 rows x 46 columns]"
            ]
          },
          "metadata": {
            "tags": []
          },
          "execution_count": 21
        }
      ]
    },
    {
      "metadata": {
        "id": "yGqT_R6zSZeR",
        "colab_type": "code",
        "colab": {
          "base_uri": "https://localhost:8080/",
          "height": 34
        },
        "outputId": "7cd024ec-778e-4bea-984f-2e79c97c1a04"
      },
      "cell_type": "code",
      "source": [
        "len(df3)"
      ],
      "execution_count": 16,
      "outputs": [
        {
          "output_type": "execute_result",
          "data": {
            "text/plain": [
              "1428946"
            ]
          },
          "metadata": {
            "tags": []
          },
          "execution_count": 16
        }
      ]
    },
    {
      "metadata": {
        "id": "JhhjhkaISaRw",
        "colab_type": "code",
        "colab": {}
      },
      "cell_type": "code",
      "source": [
        "df = df.append(df3, ignore_index=True)"
      ],
      "execution_count": 0,
      "outputs": []
    },
    {
      "metadata": {
        "id": "j-dXN6OPSl9c",
        "colab_type": "code",
        "colab": {
          "base_uri": "https://localhost:8080/",
          "height": 34
        },
        "outputId": "dba4cdc0-e839-4a54-a115-b07729bff2ba"
      },
      "cell_type": "code",
      "source": [
        "len(df)\n",
        "# Should be 8398928"
      ],
      "execution_count": 7,
      "outputs": [
        {
          "output_type": "execute_result",
          "data": {
            "text/plain": [
              "8398928"
            ]
          },
          "metadata": {
            "tags": []
          },
          "execution_count": 7
        }
      ]
    },
    {
      "metadata": {
        "id": "xp957jesWRQ-",
        "colab_type": "code",
        "colab": {
          "base_uri": "https://localhost:8080/",
          "height": 70
        },
        "outputId": "12fa8de9-95f9-46bf-a98c-d56629d467f5"
      },
      "cell_type": "code",
      "source": [
        "print('saving to csv')\n",
        "df.to_csv('all_senate_records_1980-2014.csv', index=False)\n",
        "\n",
        "print('saving to gdrive')\n",
        "uploaded = drive.CreateFile({'title': 'all_senate_records_1980-2014.csv'})\n",
        "uploaded.SetContentFile('all_senate_records_1980-2014.csv')\n",
        "uploaded.Upload()\n",
        "print('Uploaded file with ID {}'.format(uploaded.get('id')))"
      ],
      "execution_count": 8,
      "outputs": [
        {
          "output_type": "stream",
          "text": [
            "saving to csv\n",
            "saving to gdrive\n",
            "Uploaded file with ID 1kZY8HmESxwiL9l9xHE9KwFtvAkphtZUt\n"
          ],
          "name": "stdout"
        }
      ]
    },
    {
      "metadata": {
        "id": "jPEcWXzMWKRA",
        "colab_type": "code",
        "colab": {}
      },
      "cell_type": "code",
      "source": [
        "df.info()"
      ],
      "execution_count": 0,
      "outputs": []
    },
    {
      "metadata": {
        "id": "3m1Z9iNhYHOF",
        "colab_type": "code",
        "colab": {}
      },
      "cell_type": "code",
      "source": [
        ""
      ],
      "execution_count": 0,
      "outputs": []
    }
  ]
}